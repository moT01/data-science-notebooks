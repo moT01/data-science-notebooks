{
  "nbformat": 4,
  "nbformat_minor": 0,
  "metadata": {
    "colab": {
      "name": "Copy of Foundational Math 2 (Learn).ipynb",
      "provenance": [],
      "collapsed_sections": [
        "jpo7oASHGEu7"
      ]
    },
    "kernelspec": {
      "name": "python3",
      "display_name": "Python 3"
    },
    "language_info": {
      "name": "python"
    }
  },
  "cells": [
    {
      "cell_type": "markdown",
      "metadata": {
        "id": "7ECUmRBSGOb4"
      },
      "source": [
        "<b>Foundational Math - Certification 2</b><br>\n",
        "Each of these steps will lead you toward the Certification Project. Once you complete a step, click to expand the next step."
      ]
    },
    {
      "cell_type": "markdown",
      "metadata": {
        "id": "ZWDxpIPUFfda"
      },
      "source": [
        "# 1 - Cartesian Coordinates"
      ]
    },
    {
      "cell_type": "markdown",
      "metadata": {
        "id": "eTWzFpChFltm"
      },
      "source": [
        "Learn Cartesian coordinates by building a scatterplot game. The Cartesian plane is the classic x-y coordinate grid (invented by Ren$\\acute{e}$ DesCartes) where `x` is the horizontal axis and `y` is the vertical axis. Each `(x,y)` coordinate pair is a point on the graph. The point (0,0) is the \"origin.\" The x value tells how much to move right (positive) or left (negaive) from the origin. The y value tells you how much you move up (positive) or down (negative) from the origin. Notice that you are importing `matplotlib` to create the graph. Run the code cell below to display one quadrant of the Cartesian graph.\n"
      ]
    },
    {
      "cell_type": "code",
      "metadata": {
        "id": "OGdjnZw0Fmf7",
        "colab": {
          "base_uri": "https://localhost:8080/",
          "height": 303
        },
        "outputId": "640528d2-3261-4b5f-d2fc-6e9234fc4e16"
      },
      "source": [
        "import matplotlib.pyplot as plt\n",
        "\n",
        "fig, ax = plt.subplots()\n",
        "plt.show()\n",
        "\n",
        "# Do not change this line or below\n",
        "from IPython.display import HTML;HTML('''<br><div style=\"font-family:Monospace\"><span id=\"message\"></span></div><script type=\"text/javascript\">const el=document.getElementById('message');el.style.color='#005a00';el.innerText+='All Tests Passed!'</script>''')"
      ],
      "execution_count": 2,
      "outputs": [
        {
          "output_type": "display_data",
          "data": {
            "image/png": "[encoded data removed]",
            "text/plain": [
              "<Figure size 432x288 with 1 Axes>"
            ]
          },
          "metadata": {
            "needs_background": "light"
          }
        },
        {
          "output_type": "execute_result",
          "data": {
            "text/html": [
              "<br><div style=\"font-family:Monospace\"><span id=\"message\"></span></div><script type=\"text/javascript\">const el=document.getElementById('message');el.style.color='#005a00';el.innerText+='All Tests Passed!'</script>"
            ],
            "text/plain": [
              "<IPython.core.display.HTML object>"
            ]
          },
          "metadata": {},
          "execution_count": 2
        }
      ]
    },
    {
      "cell_type": "markdown",
      "metadata": {
        "id": "i1mBd8gGFvBV"
      },
      "source": [
        "# 2 - Cartesian Coordinates (Part 2)"
      ]
    },
    {
      "cell_type": "markdown",
      "metadata": {
        "id": "aylg20IGFvBW"
      },
      "source": [
        "Here you will create a standard window but still not highlight each axis. Run this code once, then change the window size to 20 in each direction and run it again."
      ]
    },
    {
      "cell_type": "code",
      "metadata": {
        "id": "EKfFo4_EFvBX",
        "colab": {
          "base_uri": "https://localhost:8080/",
          "height": 305
        },
        "outputId": "c6367731-6acf-4cfb-e82b-74b86d3f07dd"
      },
      "source": [
        "import matplotlib.pyplot as plt\n",
        "\n",
        "fig, ax = plt.subplots()\n",
        "\n",
        "# Only change the numbers in the next line:\n",
        "plt.axis([-20,20,-20,20])\n",
        "\n",
        "plt.show()\n",
        "\n",
        "\n",
        "# Do not change this line or below\n",
        "import re;from IPython.display import HTML;print(\" \");code = In[-1].split('# Do not change this line or below')[0];\n",
        "if re.search(\"plt.axis\\(\\[-20\\,20\\,-20\\,20\\]\\)\", code):\n",
        "  print(\"Code test passed\")\n",
        "elif re.search(\"plt.axis\\(\\[-10\\,10\\,-10\\,10\\]\\)\", code):\n",
        "  print(\"Now change the values in plt.axis() and re-run the code.\")\n",
        "else:\n",
        "  print(\"You should use `plt.axis([-20,20,-20,20])` in your code\")\n"
      ],
      "execution_count": 16,
      "outputs": [
        {
          "output_type": "display_data",
          "data": {
            "image/png": "[encoded data removed]",
            "text/plain": [
              "<Figure size 432x288 with 1 Axes>"
            ]
          },
          "metadata": {
            "needs_background": "light"
          }
        },
        {
          "output_type": "stream",
          "name": "stdout",
          "text": [
            " \n",
            "Code test passed\n"
          ]
        }
      ]
    },
    {
      "cell_type": "markdown",
      "metadata": {
        "id": "wLDO_IRrFw7z"
      },
      "source": [
        "# 3 - Plotting Points"
      ]
    },
    {
      "cell_type": "markdown",
      "metadata": {
        "id": "iOZ8TJISFw71"
      },
      "source": [
        "Now you will plot a point on the graph. Notice the `'ro'` makes the point a red dot. Run the code, then change the location of the point to (-5,0) and run it again. Keep the window size the same, and plot a point within these boundaries."
      ]
    },
    {
      "cell_type": "code",
      "metadata": {
        "id": "N09NlV3DFw71",
        "colab": {
          "base_uri": "https://localhost:8080/",
          "height": 305
        },
        "outputId": "4ea18095-0006-4740-f31d-981adbe57c5b"
      },
      "source": [
        "import matplotlib.pyplot as plt\n",
        "\n",
        "fig, ax = plt.subplots()\n",
        "plt.axis([-10,10,-10,10]) # window size\n",
        "\n",
        "# Change only the numbers in the following line:\n",
        "plt.plot([-5],[0], 'ro')\n",
        "\n",
        "plt.show()\n",
        "\n",
        "\n",
        "# Only change code above this line\n",
        "import re;from IPython.display import HTML;print(\" \");code = In[-1].split('# Only change code above this line')[0];\n",
        "if re.search(\"plt.plot\\(\\[-5\\]\\,\\s*\\[0\\]\\,\\s*\\'ro\\'\\)\", code):\n",
        "  print(\"Code test passed\")\n",
        "else:\n",
        "  print(\"You should use `plt.plot([-5],[0], \\'ro\\')` in your code\")"
      ],
      "execution_count": 17,
      "outputs": [
        {
          "output_type": "display_data",
          "data": {
            "image/png": "[encoded data removed]",
            "text/plain": [
              "<Figure size 432x288 with 1 Axes>"
            ]
          },
          "metadata": {
            "needs_background": "light"
          }
        },
        {
          "output_type": "stream",
          "name": "stdout",
          "text": [
            " \n",
            "Code test passed\n"
          ]
        }
      ]
    },
    {
      "cell_type": "markdown",
      "metadata": {
        "id": "yCUmBP2eFzaS"
      },
      "source": [
        "# 4 - Displaying Each Axis"
      ]
    },
    {
      "cell_type": "markdown",
      "metadata": {
        "id": "g2MJQLk0FzaS"
      },
      "source": [
        "This code will show the x axis and the y axis on the Cartesian plane. For reference, one point will also appear. Just run this code, but take notice of the differrence between plotting a point and plotting a line. You will learn about that in the next step."
      ]
    },
    {
      "cell_type": "code",
      "metadata": {
        "id": "PwL13zD7FzaT",
        "colab": {
          "base_uri": "https://localhost:8080/",
          "height": 305
        },
        "outputId": "3065b4b8-c422-4034-b3d9-0dbe7a3ea248"
      },
      "source": [
        "import matplotlib.pyplot as plt\n",
        "\n",
        "fig, ax = plt.subplots()\n",
        "plt.axis([-10,10,-10,10]) # window size\n",
        "plt.plot([-10,10],[0,0],'b') # blue x axis\n",
        "plt.plot([0,0],[-10,10], 'b') # blue y axis\n",
        "plt.plot([2],[8], 'ro') # red point\n",
        "plt.show()\n",
        "\n",
        "# Just run this code\n",
        "\n",
        "# Don't even look below this line\n",
        "print(\" \")\n",
        "print(\"That is all you need to do. Test passed.\")\n"
      ],
      "execution_count": 18,
      "outputs": [
        {
          "output_type": "display_data",
          "data": {
            "image/png": "[encoded data removed]",
            "text/plain": [
              "<Figure size 432x288 with 1 Axes>"
            ]
          },
          "metadata": {
            "needs_background": "light"
          }
        },
        {
          "output_type": "stream",
          "name": "stdout",
          "text": [
            " \n",
            "That is all you need to do. Test passed.\n"
          ]
        }
      ]
    },
    {
      "cell_type": "markdown",
      "metadata": {
        "id": "ExVB2joZF0rk"
      },
      "source": [
        "# 5 - Plotting Several Points"
      ]
    },
    {
      "cell_type": "markdown",
      "metadata": {
        "id": "G48kO0jcF0rl"
      },
      "source": [
        "You have actually been using arrays to plot each singular point so far. In this step, you will see an array of x values and an array of y values defined before the plot statement. Notice that these two short arrays create one point: (4,2). Add two numbers to each array so that it also plots points (1,4) and (2,5)."
      ]
    },
    {
      "cell_type": "code",
      "metadata": {
        "id": "YkRIMNimF0rm",
        "colab": {
          "base_uri": "https://localhost:8080/",
          "height": 305
        },
        "outputId": "fc7bb47f-f7cc-4e91-b123-e9b30fe81b3c"
      },
      "source": [
        "import matplotlib.pyplot as plt\n",
        "\n",
        "# only change the next two lines:\n",
        "x = [4, 1, 2]\n",
        "y = [2, 4, 5]\n",
        "\n",
        "# Only change code above this line\n",
        "\n",
        "fig, ax = plt.subplots()\n",
        "plt.axis([-10,10,-10,10]) # window size\n",
        "plt.plot([-10,10],[0,0],'b') # blue x axis\n",
        "plt.plot([0,0],[-10,10],'b') # blue y axis\n",
        "plt.plot(x, y, 'ro') # red point\n",
        "plt.show()\n",
        "\n",
        "\n",
        "# Don't even look below this line\n",
        "\n",
        "import re\n",
        "from IPython.display import HTML\n",
        "\n",
        "code_count = 0\n",
        "print(\" \")\n",
        "code = In[-1].split('# Only change code above this line')[0];\n",
        "if re.search(\"x\\s*=\\s*\\[4,\\s*1,\\s*2\\]\", code):\n",
        "    code_count = code_count + 1\n",
        "else:\n",
        "    print(\"You should use `x = [4,1,2]` in your code\")\n",
        "\n",
        "if re.search(\"y\\s*=\\s*\\[2,\\s*4,\\s*5\\]\", code):\n",
        "    code_count = code_count + 1\n",
        "else:\n",
        "    print(\"You should use `y = [2,4,5]` in your code\")\n",
        "\n",
        "if code_count == 2:\n",
        "    print(\"Code test passed\")\n",
        "\n"
      ],
      "execution_count": 25,
      "outputs": [
        {
          "output_type": "display_data",
          "data": {
            "image/png": "[encoded data removed]",
            "text/plain": [
              "<Figure size 432x288 with 1 Axes>"
            ]
          },
          "metadata": {
            "needs_background": "light"
          }
        },
        {
          "output_type": "stream",
          "name": "stdout",
          "text": [
            " \n",
            "Code test passed\n"
          ]
        }
      ]
    },
    {
      "cell_type": "markdown",
      "metadata": {
        "id": "3MqIpFTOF1m9"
      },
      "source": [
        "# 6 - Plotting Points and Lines"
      ]
    },
    {
      "cell_type": "markdown",
      "metadata": {
        "id": "1O1_p4BqF1m-"
      },
      "source": [
        "Notice the subtle difference between plotting points and lines. Each `plot()` statement takes an array of x values, an array of y values, and a third argument to tell what you are plotting. The default plot is a line. The letters `'r'` and `'b'` (and `'g'` and a few others) indicate common colors. The \"o\" in `'ro'` indicates a dot, where `'rs'` would indicate a red square and `'r^'` would indicate a red triangle. Plot a red line and two green squares. "
      ]
    },
    {
      "cell_type": "code",
      "metadata": {
        "id": "oMRcOD7hF1m-",
        "colab": {
          "base_uri": "https://localhost:8080/",
          "height": 305
        },
        "outputId": "4564b67c-5081-4561-9834-f830b25c4ea4"
      },
      "source": [
        "import matplotlib.pyplot as plt\n",
        "\n",
        "# Use these numbers:\n",
        "linex = [2,4]\n",
        "liney = [1,5]\n",
        "pointx = [1,6]\n",
        "pointy = [6,3]\n",
        "\n",
        "# Keep these lines:\n",
        "fig, ax = plt.subplots()\n",
        "plt.axis([-10,10,-10,10]) # window size\n",
        "plt.plot([-10,10],[0,0],'b') # blue x axis\n",
        "plt.plot([0,0],[-10,10],'b') # blue y axis\n",
        "\n",
        "# Change the next two lines:\n",
        "plt.plot(linex, liney, 'r')\n",
        "plt.plot(pointx, pointy, 'gs')\n",
        "\n",
        "plt.show()\n",
        "\n",
        "\n",
        "# Below are tests. Do not change them. You can look at them if you are completely stuck.\n",
        "import re;from IPython.display import HTML;code_count = 0;print(\" \");code = In[-1].split('# Only change code above this line')[0];\n",
        "if re.search(\"plt.plot\\(linex, liney, \\'r\\'\\)\", code):\n",
        "    code_count = code_count + 1\n",
        "else:\n",
        "    print(\"You should use `plt.plot(linex, liney, \\'r\\')` in your code\")\n",
        "if re.search(\"plt.plot\\(pointx,\\s*pointy,\\s*\\'gs\\'\\)\", code):\n",
        "    code_count = code_count + 1\n",
        "else:\n",
        "    print(\"You should use `plt.plot(pointx, pointy, \\'gs\\')` in your code\")\n",
        "if code_count == 2:\n",
        "    print(\"Code test passed\")"
      ],
      "execution_count": 28,
      "outputs": [
        {
          "output_type": "display_data",
          "data": {
            "image/png": "[encoded data removed]",
            "text/plain": [
              "<Figure size 432x288 with 1 Axes>"
            ]
          },
          "metadata": {
            "needs_background": "light"
          }
        },
        {
          "output_type": "stream",
          "name": "stdout",
          "text": [
            " \n",
            "Code test passed\n"
          ]
        }
      ]
    },
    {
      "cell_type": "markdown",
      "metadata": {
        "id": "NKq_qwCsF3Dj"
      },
      "source": [
        "# 7 - Making the Scatterplot Game"
      ]
    },
    {
      "cell_type": "markdown",
      "metadata": {
        "id": "sBh-rNyOF3Dk"
      },
      "source": [
        "To make the game, you will make a loop that plots a random point and asks the user to input the (x,y) coordinates. Notice the `for` loop that runs three rounds of the game. In that loop, you will see three places where you need to write code."
      ]
    },
    {
      "cell_type": "code",
      "metadata": {
        "id": "uR5TFWbLF3Dk",
        "colab": {
          "base_uri": "https://localhost:8080/",
          "height": 994
        },
        "outputId": "73584ec4-7df3-4912-c347-c0c5eaa10adb"
      },
      "source": [
        "import matplotlib.pyplot as plt\n",
        "import random\n",
        "\n",
        "fig, ax = plt.subplots()\n",
        "guess = \" \"\n",
        "score = 0\n",
        "\n",
        "for i in range(0,3):\n",
        "    xpoint = random.randint(-10, 10)\n",
        "    # use \"xpoint\" as a model to create a \"ypoint\" variable here:\n",
        "    ypoint = random.randint(-10,10)\n",
        "\n",
        "    x = [xpoint]  \n",
        "    # use \"x\" as a model to create a \"y\" array here:\n",
        "    y = [ypoint]\n",
        "\n",
        "    plt.axis([-10,10,-10,10]) # window size\n",
        "    plt.plot([-10,10],[0,0],'b') # blue x axis\n",
        "    plt.plot([0,0],[-10,10],'b') # blue y axis\n",
        "    plt.plot(x, y, 'ro')\n",
        "    print(\" \")\n",
        "    print(\"Because the input box is long, you probably have to scroll left.\")\n",
        "    plt.show()\n",
        "    guess = input('Enter the coordinates of the red point point: ')\n",
        "    guess_array = guess.split(\",\")\n",
        "    xguess = int(guess_array[0])\n",
        "    # use \"xguess\" as a model to create the variable \"yguess\" here:\n",
        "    yguess = int(guess_array[1])\n",
        "\n",
        "    if xguess == xpoint and yguess == ypoint:\n",
        "        score = score + 1 # add a point for correct guesses\n",
        "    \n",
        "print(\"Your score: \", score) # notice this is not in the loop\n",
        "\n",
        "\n",
        "# Only change code above this line\n",
        "# Don't even look below this line\n",
        "\n",
        "import re\n",
        "from IPython.display import HTML\n",
        "\n",
        "code_count = 0\n",
        "print(\" \")\n",
        "code = In[-1].split('# Only change code above this line')[0];\n",
        "#\n",
        "if re.search(\"ypoint\\s*=\\s*random.randint\\(-10,\\s*10\\)\", code):\n",
        "    code_count = code_count + 1\n",
        "else:\n",
        "    print(\"You should use `ypoint = random.randint(-10,\\s*10)` in your code\")\n",
        "\n",
        "#\n",
        "if re.search(\"y\\s*=\\s*\\[ypoint\\]\", code):\n",
        "    code_count = code_count + 1\n",
        "else:\n",
        "    print(\"You should use `y = [ypoint]` in your code\")\n",
        "\n",
        "#\n",
        "if re.search(\"yguess\\s*=\\s*int\\(guess_array\\[1\\]\\)\", code):\n",
        "    code_count = code_count + 1\n",
        "else:\n",
        "    print(\"You should use `yguess = int(guess_array[1])` in your code\")\n",
        "\n",
        "if code_count == 3:\n",
        "    print(\"Code test passed\")\n",
        "\n"
      ],
      "execution_count": 44,
      "outputs": [
        {
          "output_type": "stream",
          "name": "stdout",
          "text": [
            " \n",
            "Because the input box is long, you probably have to scroll left.\n"
          ]
        },
        {
          "output_type": "display_data",
          "data": {
            "image/png": "[encoded data removed]",
            "text/plain": [
              "<Figure size 432x288 with 1 Axes>"
            ]
          },
          "metadata": {
            "needs_background": "light"
          }
        },
        {
          "output_type": "stream",
          "name": "stdout",
          "text": [
            "Enter the coordinates of the red point point: -10, 8\n",
            " \n",
            "Because the input box is long, you probably have to scroll left.\n"
          ]
        },
        {
          "output_type": "display_data",
          "data": {
            "image/png": "[encoded data removed]",
            "text/plain": [
              "<Figure size 432x288 with 1 Axes>"
            ]
          },
          "metadata": {
            "needs_background": "light"
          }
        },
        {
          "output_type": "stream",
          "name": "stdout",
          "text": [
            "Enter the coordinates of the red point point: -6, -2\n",
            " \n",
            "Because the input box is long, you probably have to scroll left.\n"
          ]
        },
        {
          "output_type": "display_data",
          "data": {
            "image/png": "[encoded data removed]",
            "text/plain": [
              "<Figure size 432x288 with 1 Axes>"
            ]
          },
          "metadata": {
            "needs_background": "light"
          }
        },
        {
          "output_type": "stream",
          "name": "stdout",
          "text": [
            "Enter the coordinates of the red point point: 10, 2\n",
            "Your score:  2\n",
            " \n",
            "Code test passed\n"
          ]
        }
      ]
    },
    {
      "cell_type": "markdown",
      "metadata": {
        "id": "wvdngkOTF4Hi"
      },
      "source": [
        "# 8 - Graphing Linear Equations"
      ]
    },
    {
      "cell_type": "markdown",
      "metadata": {
        "id": "fTzBZAmtF4Hj"
      },
      "source": [
        "Besides graphing points, you can graph `linear` equations (or `functions`). The graph will be a straight line, and the equation will not have any exponents. For these graphs, you will import `numpy` and use the `linspace()` function to define the x values. That function takes three arguments: starting number, ending number, and number of steps. Notice the `plot()` function only has two arguments: the x values and a function (y = 2x - 3) for the y values. Run this code, then use the same x values to graph `y = -x + 3`."
      ]
    },
    {
      "cell_type": "code",
      "metadata": {
        "id": "xJ0pkcFsF4Hj"
      },
      "source": [
        "import matplotlib.pyplot as plt\n",
        "import numpy as np\n",
        "\n",
        "fig, ax = plt.subplots()\n",
        "plt.axis([-10,10,-10,10]) # window size\n",
        "plt.plot([-10,10],[0,0], 'b') # blue x axis\n",
        "plt.plot([0,0],[-10,10], 'b') # blue y axis\n",
        "\n",
        "x = np.linspace(-9,9,36) \n",
        "plt.plot(x, 2*x - 3)\n",
        "# use the previous line as a model to graph y = -x + 3 here:\n",
        "\n",
        "\n",
        "plt.show()\n",
        "\n",
        "\n",
        "\n",
        "# Only change code above this line\n",
        "# Don't even look below this line\n",
        "\n",
        "import re\n",
        "from IPython.display import HTML\n",
        "\n",
        "print(\" \")\n",
        "code = In[-1].split('# Only change code above this line')[0];\n",
        "if re.search(\"plt.plot\\(x,\\s*-x\\s*\\+\\s*3\\)\", code):\n",
        "    print(\"Code test passed\")\n",
        "elif re.search(\"plt.plot\\(x,\\s*2\\*x\\s*\\-\\s*3\\)\", code):\n",
        "    print(\"Now change the equation and re-run the code.\")\n",
        "else:\n",
        "    print(\"You should use plt.plot(x, -x + 3) in your code.\")\n",
        "\n"
      ],
      "execution_count": null,
      "outputs": []
    },
    {
      "cell_type": "markdown",
      "metadata": {
        "id": "Q19Wm90DF5zf"
      },
      "source": [
        "# 9 - Creating Interactive Graphs"
      ]
    },
    {
      "cell_type": "markdown",
      "metadata": {
        "id": "JNEjD9DxF5zh"
      },
      "source": [
        "Like the previous graphs, you will graph a line. This time, you will create two sliders to change the slope and the y intecept. Notice the additional imports and other changes: You define a function with two arguments. All of the graphing happens within that `f(m,b)` function. The `interactive()` function calls your defined function and sets the boundaries for the sliders. Run this code to see the sliders."
      ]
    },
    {
      "cell_type": "code",
      "metadata": {
        "id": "9lh41CENF5zh"
      },
      "source": [
        "%matplotlib inline\n",
        "from ipywidgets import interactive\n",
        "import matplotlib.pyplot as plt\n",
        "import numpy as np\n",
        "\n",
        "def f(m, b):\n",
        "    plt.axis([-10,10,-10,10]) # window size\n",
        "    plt.plot([-10,10],[0,0],'k') # blue x axis\n",
        "    plt.plot([0,0],[-10,10], 'k') # blue y axis\n",
        "    x = np.linspace(-10, 10, 1000)\n",
        "    plt.plot(x, m*x+b)\n",
        "    plt.show()\n",
        "\n",
        "interactive_plot = interactive(f, m=(-9, 9), b=(-9, 9))\n",
        "interactive_plot\n",
        "\n",
        "\n",
        "# Don't even look below this line\n",
        "print(\" \")\n",
        "print(\"You can go on to the next step.\")\n"
      ],
      "execution_count": null,
      "outputs": []
    },
    {
      "cell_type": "markdown",
      "metadata": {
        "id": "YSY2k7S3F6d7"
      },
      "source": [
        "# 10 - Systems of Equations - Graphing"
      ]
    },
    {
      "cell_type": "markdown",
      "metadata": {
        "id": "8MG28-VPF6d8"
      },
      "source": [
        "When you graph two equations on the same coordinate plane, they are a `system of equations`. Notice how this code uses variables at the beginning to define the window and the number of points. Notice how the code defines `x1` and `y1` and plots that line, then defines `x2` and `y2` and plots that line, then defines `px` and `py` and plots that one point. Run this code, then change it so that line 2 graphs y = -x - 3."
      ]
    },
    {
      "cell_type": "code",
      "metadata": {
        "id": "wYHGm-PAF6d9"
      },
      "source": [
        "import matplotlib.pyplot as plt\n",
        "import numpy as np\n",
        "\n",
        "\n",
        "xmin = -10\n",
        "xmax = 10\n",
        "ymin = - 10\n",
        "ymax = 10\n",
        "points = 2*(xmax-xmin)\n",
        "x = np.linspace(xmin,xmax,points)\n",
        "\n",
        "fig, ax = plt.subplots()\n",
        "plt.axis([xmin,xmax,ymin,ymax]) # window size\n",
        "plt.plot([xmin,xmax],[0,0],'b') # blue x axis\n",
        "plt.plot([0,0],[ymin,ymax], 'b') # blue y axis\n",
        "\n",
        "# line 1\n",
        "y1 = 2*x\n",
        "plt.plot(x, y1)\n",
        "\n",
        "# line 2\n",
        "y2 = x**2 - 3\n",
        "plt.plot(x, y2)\n",
        "\n",
        "# point where the lines intersect\n",
        "px = [-1]\n",
        "py = [-2]\n",
        "plt.plot(px, py, 'ro')\n",
        "\n",
        "plt.show()\n",
        "\n",
        "\n",
        "# Only change code above this line\n",
        "# Don't even look below this line\n",
        "\n",
        "import re\n",
        "from IPython.display import HTML\n",
        "\n",
        "print(\" \")\n",
        "code = In[-1].split('# Only change code above this line')[0];\n",
        "if re.search(\"y2\\s*=\\s*-x\\s*\\-\\s*3\", code):\n",
        "    print(\"Code test passed\")\n",
        "elif re.search(\"y2\\s*=\\s*x\\*\\*2\\s*\\-\\s*3\", code):\n",
        "    print(\"Now change y2 and re-run the code.\")\n",
        "else:\n",
        "    print(\"You should use y2 = -x2 - 3 in your code.\")\n",
        "\n",
        "\n"
      ],
      "execution_count": null,
      "outputs": []
    },
    {
      "cell_type": "markdown",
      "metadata": {
        "id": "ykj42UNeF7K5"
      },
      "source": [
        "# 11 - Systems of Equations - Algebra"
      ]
    },
    {
      "cell_type": "markdown",
      "metadata": {
        "id": "n_-rpo6nF7K7"
      },
      "source": [
        "In a system of equations, the solution is the point where the two equations intersect, the (x,y) values that work in each equation. To work with algabraic expressions, you will import `sympy` and define x and y as symbols. If you have two equations and two variables, set each equation equal to zero. The `linsolve()` function takes the non-zero side of each equation and the variables used. Notice the syntax. Run the code, then change the two equations to solve 2x + y - 15 = 0 and 3x - y = 0."
      ]
    },
    {
      "cell_type": "code",
      "metadata": {
        "id": "6dFzZfqRF7K7"
      },
      "source": [
        "from sympy import *\n",
        "x,y = symbols('x y')\n",
        "\n",
        "# Change the equations in the following line: \n",
        "print(linsolve([2*x + y - 1, x - 2*y + 7], (x, y)))\n",
        "\n",
        "\n",
        "\n",
        "# Only change code above this line\n",
        "# Don't even look below this line\n",
        "\n",
        "import re\n",
        "from IPython.display import HTML\n",
        "\n",
        "print(\" \")\n",
        "code = In[-1].split('# Only change code above this line')[0];\n",
        "if re.search(\"linsolve\\(\\[2\\*x\\s*\\+\\s*y\\s*\\-\\s*15\\,\\s*3\\*x\\s*\\-\\s*y\\],\\s*\\(x\\,\\s*y\\)\\)\", code):\n",
        "    print(\"Code test passed\")\n",
        "elif re.search(\"linsolve\\(\\[2\\*x\\s*\\+\\s*y\\s*\\-\\s*1\\,\\s*x\\s*\\-\\s*2\\*y\\s*\\+\\s*7\\]\\,\\s*\\(x\\, y\\)\\)\", code):\n",
        "    print(\"Now change the equations and re-run the code.\")\n",
        "else:\n",
        "    print(\"You should use linsolve([2*x + y - 15, 3*x - y], (x,y)) in your code.\")\n",
        "\n",
        "\n",
        "\n"
      ],
      "execution_count": null,
      "outputs": []
    },
    {
      "cell_type": "markdown",
      "metadata": {
        "id": "0epVLhL0F88U"
      },
      "source": [
        "# 12 - Systems of Equations - Solve"
      ]
    },
    {
      "cell_type": "markdown",
      "metadata": {
        "id": "VhoI5uNrF88V"
      },
      "source": [
        "To do more than output the solution, store the `linsolve()` output as a variable. This data type is a `finiteset` so you can get the x and y values as separate variables, similar to working with a two-dimensional array. Run this code to solve any system of two equations."
      ]
    },
    {
      "cell_type": "code",
      "metadata": {
        "id": "8irtXhucF88W"
      },
      "source": [
        "from sympy import *\n",
        "\n",
        "x,y = symbols('x y')\n",
        "print(\"Use x and y as variables. Set each equation equal to zero.\")\n",
        "print(\"Remember to use Python syntax.\")\n",
        "first = input(\"Enter the first equation: 0 = \")\n",
        "second = input(\"Enter the second equation: 0 = \")\n",
        "solution = linsolve([first, second], (x, y))\n",
        "x_solution = solution.args[0][0]\n",
        "y_solution = solution.args[0][1]\n",
        "\n",
        "print(\"x = \", x_solution)\n",
        "print(\"y = \", y_solution)\n",
        "\n",
        "\n",
        "# Don't even look below this line\n",
        "\n",
        "print(\" \")\n",
        "print(\"If you didn't get a syntax error, code test passed\")\n"
      ],
      "execution_count": null,
      "outputs": []
    },
    {
      "cell_type": "markdown",
      "metadata": {
        "id": "BhKPZQJZF9w0"
      },
      "source": [
        "# 13 - Quadratic Functions"
      ]
    },
    {
      "cell_type": "markdown",
      "metadata": {
        "id": "BYmD2FYHF9w1"
      },
      "source": [
        "Any function that involves x<sup>2</sup> is a `quadratic` function. The graph is a parabola. The formula is y = ax<sup>2</sup> + bx + c, where `b` and `c` can be zero but `a` has to be a number. Here is a graph of the simplest parabola. "
      ]
    },
    {
      "cell_type": "code",
      "metadata": {
        "id": "sfQl_A1CF9w1"
      },
      "source": [
        "import matplotlib.pyplot as plt\n",
        "import numpy as np\n",
        "\n",
        "fig, ax = plt.subplots()\n",
        "plt.axis([-10,10,-10,10]) # window size\n",
        "plt.plot([-10,10],[0,0],'b') # blue x axis\n",
        "plt.plot([0,0],[-10,10], 'b') # blue y axis\n",
        "\n",
        "x = np.linspace(-4,4,16) \n",
        "y = x**2\n",
        "\n",
        "plt.plot(x,y)\n",
        "plt.show()\n",
        "\n",
        "# Just run this code. The next step will transform the graph\n",
        "\n",
        "\n",
        "\n",
        "# Don't even look below this line\n",
        "\n",
        "print(\" \")\n",
        "print(\"Code test passed\")"
      ],
      "execution_count": null,
      "outputs": []
    },
    {
      "cell_type": "markdown",
      "metadata": {
        "id": "I0mklEluF-jI"
      },
      "source": [
        "# 14 - Quadratic Function ABC's"
      ]
    },
    {
      "cell_type": "markdown",
      "metadata": {
        "id": "AJuHf8ySF-jJ"
      },
      "source": [
        "Using the parabola formula y = ax<sup>2</sup> + bx + c, you will change the values of `a`, `b`, and `c` to see how they affect the graph. Run the code and use the sliders to change the values of `a` and `b`. Then change the code in three places to add a slider for `c`. You may remember this interactive graph from an earlier step."
      ]
    },
    {
      "cell_type": "code",
      "metadata": {
        "id": "9IVFnXxVF-jJ"
      },
      "source": [
        "%matplotlib inline\n",
        "from ipywidgets import interactive\n",
        "import matplotlib.pyplot as plt\n",
        "import numpy as np\n",
        "\n",
        "# Change the next line of the definition to include c:\n",
        "def f(a,b):\n",
        "    plt.axis([-10,10,-10,10]) # window size\n",
        "    plt.plot([-10,10],[0,0],'k') # blue x axis\n",
        "    plt.plot([0,0],[-10,10], 'k') # blue y axis\n",
        "    x = np.linspace(-10, 10, 1000)\n",
        "\n",
        "    # Change the next line to add c to the end of the function:\n",
        "    plt.plot(x, a*x**2 + b*x)\n",
        "    plt.show()\n",
        "\n",
        "# Change the next line to add a slider to change the c value\n",
        "interactive_plot = interactive(f, a=(-9, 9), b=(-9,9))\n",
        "interactive_plot\n",
        "\n",
        "\n",
        "# Run the code once, then change the code and run it again\n",
        "\n",
        "\n",
        "# Only change code above this line\n",
        "# Don't even look below this line\n",
        "\n",
        "import re\n",
        "from IPython.display import HTML\n",
        "\n",
        "code = In[-1].split('# Only change code above this line')[0];\n",
        "code_count = 0\n",
        "first_run = 0\n",
        "\n",
        "#\n",
        "if re.search(\"f\\(a\\,b\\)\\:\", code):\n",
        "    print(\"Now change the code and run it again\")\n",
        "    first_run = 1\n",
        "\n",
        "#\n",
        "if re.search(\"f\\(a\\,\\s*b\\,\\s*c\\)\\:\", code):\n",
        "    code_count = code_count + 1\n",
        "elif first_run==1:\n",
        "    code_count = 0\n",
        "else:\n",
        "    print(\"You should use `f(a,b,c):` in your code\")\n",
        "\n",
        "# plt.plot(x, a*x**2 + b*x + c)\n",
        "if re.search(\"\\(x\\,\\s*a\\*x\\*\\*2\\s*\\+\\s*b\\*x\\s*\\+\\s*c\\)\", code):\n",
        "    code_count = code_count + 1\n",
        "elif first_run==1:\n",
        "    code_count = 0\n",
        "else:\n",
        "    print(\"You should use `plt.plot(x, a*x**2 + b*x + c)` in your code\")\n",
        "\n",
        "# interactive(f, a=(-9, 9), b=(-9,9), c=(-9,9))\n",
        "if re.search(\"\\(f\\,\\s*a\\=\\(\\-9\\,\\s*9\\)\\,\\s*b\\=\\(\\-9\\,\\s*9\\)\\,\\s*c\\=\\(\\-9\\,\\s*9\\)\\)\", code):\n",
        "    code_count = code_count + 1\n",
        "elif first_run==1:\n",
        "    code_count = 0\n",
        "else:\n",
        "    print(\"You should include 'interactive(f, a=(-9, 9), b=(-9,9), c=(-9,9))' in your code\")\n",
        "\n",
        "#\n",
        "if code_count == 3:\n",
        "    print(\"Code test passed\")\n",
        "\n",
        "\n",
        "print(\" \")\n",
        "interactive_plot\n"
      ],
      "execution_count": null,
      "outputs": []
    },
    {
      "cell_type": "markdown",
      "metadata": {
        "id": "eFehWNexGASC"
      },
      "source": [
        "# 15 - Quadratic Functions - Vertex"
      ]
    },
    {
      "cell_type": "markdown",
      "metadata": {
        "id": "p8hAZw_CGASD"
      },
      "source": [
        "The `vertex` is the point where the parabola turns around. The x value of the `vertex` is $\\frac{-b}{2a}$ (and then you would calculate the y value to get the point). Write the code to find the vertex, given `a`, `b`, and `c` as inputs. Remember the parabola forumula is y = ax<sup>2</sup> + bx + c"
      ]
    },
    {
      "cell_type": "code",
      "metadata": {
        "id": "cjMI5uZZGASD"
      },
      "source": [
        "import matplotlib.pyplot as plt\n",
        "import numpy as np\n",
        "\n",
        "a = float(input(\"a = \"))\n",
        "b = float(input(\"b = \"))\n",
        "c = float(input(\"c = \"))\n",
        "vx = 0\n",
        "vy = 0\n",
        "\n",
        "# Write your code here, changing vx and vy\n",
        "\n",
        "\n",
        "\n",
        "\n",
        "# Only change the code above this line\n",
        "\n",
        "print(\" (\", vx, \" , \", vy, \")\")\n",
        "print(\" \")\n",
        "\n",
        "fig, ax = plt.subplots()\n",
        "plt.axis([-10,10,-10,10]) # window size\n",
        "plt.plot([-10,10],[0,0],'b') # blue x axis\n",
        "plt.plot([0,0],[-10,10], 'b') # blue y axis\n",
        "\n",
        "plt.plot([vx],[vy],'ro') # vertex\n",
        "\n",
        "x = np.linspace(vx-10,vx+10,100) \n",
        "y = a*x**2 + b*x + c\n",
        "plt.plot(x,y)\n",
        "\n",
        "plt.show()\n",
        "\n",
        "\n",
        "# Only change code above this line\n",
        "# Don't even look below this line\n",
        "\n",
        "import re\n",
        "from IPython.display import HTML\n",
        "\n",
        "print(\" \")\n",
        "code = In[-1].split('# Only change code above this line')[0];\n",
        "# vx = -b/(2*a)\n",
        "# vy = a*vx**2 + b*vx + c\n",
        "code_count = 0\n",
        "if re.search(\"vx\\s*\\=\\s*\\-b\\/\\(2\\*a\\)\", code):\n",
        "    code_count = code_count + 1\n",
        "else:\n",
        "    print(\"You should include vx = -b/(2*a)\")\n",
        "\n",
        "if re.search(\"vy\\s*\\=\\s*a\\*vx\\*\\*2\\s*\\+\\s*b\\*vx\\s*\\+\\s*c\", code):\n",
        "    code_count = code_count + 1\n",
        "else:\n",
        "    print(\"You should include vy = a*vx**2 + b*vx + c\")\n",
        "\n",
        "if code_count==2\n",
        "    print(\"Code test passed\")"
      ],
      "execution_count": null,
      "outputs": []
    },
    {
      "cell_type": "markdown",
      "metadata": {
        "id": "hN_fvENUGBAm"
      },
      "source": [
        "# 16 - Quadratic Functions - C"
      ]
    },
    {
      "cell_type": "markdown",
      "metadata": {
        "id": "GrJNli5pGBAn"
      },
      "source": [
        "Like many other functions, the `c` value (also called the `constant` because it is not a variable) affects the vertical shift of the graph. Run the following code to see how changing the `c` value changes the graph."
      ]
    },
    {
      "cell_type": "code",
      "metadata": {
        "id": "hiSN0VexGBAn"
      },
      "source": [
        "import matplotlib.pyplot as plt\n",
        "import numpy as np\n",
        "import time\n",
        "from IPython import display\n",
        "\n",
        "x = np.linspace(-4,4,16) \n",
        "fig, ax = plt.subplots()\n",
        "cvalue = \"c = \"\n",
        "\n",
        "for c in range(10):\n",
        "    y = -x**2+c\n",
        "    plt.plot(x,y)\n",
        "    cvalue = \"c = \", c\n",
        "    ax.set_title(cvalue)\n",
        "    display.display(plt.gcf())\n",
        "    time.sleep(1.0)\n",
        "    display.clear_output(wait=True)\n",
        "\n",
        "# Just run this code\n",
        "\n",
        "\n",
        "# Don't even look below this line\n",
        "print(\" \")\n",
        "print(\"If you see the rainbow and c=9 then code test passed\")\n"
      ],
      "execution_count": null,
      "outputs": []
    },
    {
      "cell_type": "markdown",
      "metadata": {
        "id": "WbqugasGGCKJ"
      },
      "source": [
        "# 17 - Projectile Motion"
      ]
    },
    {
      "cell_type": "markdown",
      "metadata": {
        "id": "TtM_pFHaGCKK"
      },
      "source": [
        "The path of every projectile is a parabola. For something thrown or launched upward, the `a` value is -4.9 (meters per second squared); the `b` value is the initial velocity (in meters per second); the `c` value is the initial height (in meters); the `x` value is time (in seconds); and the `y` value is the height at that time. In this code, change `vx` and `vy` to represent the vertex. Plotting that (x,y) vertex point is already in the code."
      ]
    },
    {
      "cell_type": "code",
      "metadata": {
        "id": "FTNV_bjuGCKL"
      },
      "source": [
        "import matplotlib.pyplot as plt\n",
        "import numpy as np\n",
        "\n",
        "a = -4.9\n",
        "b = float(input(\"Initial velocity = \"))\n",
        "c = float(input(\"Initial height = \"))\n",
        "\n",
        "# Write your code below this line\n",
        "# Change vx and vy to represent the vertex\n",
        "vx = 0\n",
        "vy = 0\n",
        "\n",
        "\n",
        "# Also change the following dimensions to display the full graph\n",
        "xmin = -10\n",
        "xmax = 10\n",
        "ymin = - 10\n",
        "ymax = 10\n",
        "\n",
        "# You do not need to change anything below this line\n",
        "points = 2*(xmax-xmin)\n",
        "x = np.linspace(xmin,xmax,points)\n",
        "y = a*x**2 + b*x + c\n",
        "\n",
        "fig, ax = plt.subplots()\n",
        "plt.axis([xmin,xmax,ymin,ymax]) # window size\n",
        "plt.plot([xmin,xmax],[0,0],'b') # blue x axis\n",
        "plt.plot([0,0],[ymin,ymax], 'b') # blue y axis\n",
        "\n",
        "plt.plot(x,y) # plot the line for the equation\n",
        "plt.plot([vx],[vy],'ro') # plot the vertex point\n",
        "\n",
        "print(\" (\", vx, \",\", vy, \")\")\n",
        "print(\" \")\n",
        "plt.show()\n",
        "\n",
        "\n",
        "# Only change code above this line\n",
        "# Don't even look below this line\n",
        "\n",
        "import re\n",
        "from IPython.display import HTML\n",
        "\n",
        "print(\" \")\n",
        "code = In[-1].split('# Only change code above this line')[0];\n",
        "# vx = -b/(2*a)\n",
        "# vy = a*vx**2 + b*vx + c\n",
        "code_count = 0\n",
        "if re.search(\"vx\\s*\\=\\s*\\-b\\/\\(2\\*a\\)\", code):\n",
        "    code_count = code_count + 1\n",
        "else:\n",
        "    print(\"You should include vx = -b/(2*a)\")\n",
        "\n",
        "if re.search(\"vy\\s*\\=\\s*a\\*vx\\*\\*2\\s*\\+\\s*b\\*vx\\s*\\+\\s*c\", code):\n",
        "    code_count = code_count + 1\n",
        "else:\n",
        "    print(\"You should include vy = a*vx**2 + b*vx + c\")\n",
        "\n",
        "if code_count==2:\n",
        "    print(\"Code test passed\")\n"
      ],
      "execution_count": null,
      "outputs": []
    },
    {
      "cell_type": "markdown",
      "metadata": {
        "id": "vteEy9QFGD5I"
      },
      "source": [
        "# 18 - The Quadratic Formula"
      ]
    },
    {
      "cell_type": "markdown",
      "metadata": {
        "id": "xALyhEsNGD5J"
      },
      "source": [
        "For a projectile, you also need to find the point when it hits the ground. On a graph, you would call these points the `roots` or `x intercepts` or `zeros` (because y = 0 at these points). The `quadratic formula` gives you the x value when y = 0. Given `a`,`b` and `c`, here is the quadratic formula:<br> x = $\\frac{-b \\pm \\sqrt{b^2 - 4ac}}{2a}$ Notice it's the vertex plus or minus something: $\\frac{-b}{2a} + \\frac{\\sqrt{b^2 - 4ac}}{2a}$ and $\\frac{-b}{2a} - \\frac{\\sqrt{b^2 - 4ac}}{2a}$ <br>\n",
        "Write the code to output two x values, given a, b, and c as input."
      ]
    },
    {
      "cell_type": "code",
      "metadata": {
        "id": "R3OIh1pOGD5K"
      },
      "source": [
        "import math\n",
        "\n",
        "a = float(input(\"a = \"))\n",
        "b = float(input(\"b = \"))\n",
        "c = float(input(\"c = \"))\n",
        "x1 = 0\n",
        "x2 = 0\n",
        "\n",
        "# Checking for non-real answers:\n",
        "if b**2-4*a*c < 0:\n",
        "    print(\"No real roots\")\n",
        "else:\n",
        "    # Write your code here, changing x1 and x2\n",
        "    x1 = 0\n",
        "    x2 = 0\n",
        "    print(\"The roots are \", x1, \" and \", x2)\n",
        "\n",
        "\n",
        "\n",
        "# Only change code above this line\n",
        "# Don't even look below this line\n",
        "\n",
        "import re\n",
        "from IPython.display import HTML\n",
        "\n",
        "\n",
        "print(\" \")\n",
        "code = In[-1].split('# Only change code above this line')[0];\n",
        "\n",
        "# x1 = (-b + math.sqrt(b**2 - 4*a*c))/(2*a)\n",
        "# x1 = (-b - math.sqrt(b**2 - 4*a*c))/(2*a)\n",
        "\n",
        "code_count = 0\n",
        "if re.search(\"x1\\s*\\=\\s*\\(\\-b\\s*\\+\\s*math\\.sqrt\\(b\\*\\*2\\s*\\-\\s*4\\*a\\*c\\)\\)\\/\\(2\\*a\\)\", code):\n",
        "    code_count = code_count + 1\n",
        "else:\n",
        "    print(\"You should include x1 = (-b + math.sqrt(b**2 - 4*a*c))/(2*a)\")\n",
        "\n",
        "if re.search(\"x2\\s*\\=\\s*\\(\\-b\\s*\\-\\s*math\\.sqrt\\(b\\*\\*2\\s*\\-\\s*4\\*a\\*c\\)\\)\\/\\(2\\*a\\)\", code):\n",
        "    code_count = code_count + 1\n",
        "else:\n",
        "    print(\"You should include x2 = (-b - math.sqrt(b**2 - 4*a*c))/(2*a)\")\n",
        "\n",
        "if code_count==2:\n",
        "    print(\"Code test passed\")\n"
      ],
      "execution_count": null,
      "outputs": []
    },
    {
      "cell_type": "markdown",
      "metadata": {
        "id": "VXxx7RCVSs4j"
      },
      "source": [
        "# 19 - Table of Values"
      ]
    },
    {
      "cell_type": "markdown",
      "metadata": {
        "id": "9Bd8bgPISiRH"
      },
      "source": [
        "In addition to graphing a function, you may need a table of values. This code shows how to make a simple table of (x,y) values. Run the code, then change the title to \"y = 3x + 2\" and change the function in the table. "
      ]
    },
    {
      "cell_type": "code",
      "metadata": {
        "id": "e4dBSioJGGd3",
        "colab": {
          "base_uri": "https://localhost:8080/",
          "height": 299
        },
        "outputId": "a0bb9e4d-6c08-49e5-f650-bc5e0a853d97"
      },
      "source": [
        "import numpy as np\n",
        "import matplotlib.pyplot as plt\n",
        "\n",
        "ax = plt.subplot()\n",
        "ax.set_axis_off()\n",
        "title = \"y = 2x\" # Change this title\n",
        "cols = ('x', 'y')\n",
        "rows = [[0,0]]\n",
        "for a in range(1,10):\n",
        "    rows.append([a, 2*a]) # Change only the function in this line\n",
        "    \n",
        "ax.set_title(title) \n",
        "plt.table(cellText=rows, colLabels=cols, cellLoc='center', loc='upper left')\n",
        "plt.show()\n",
        "\n",
        "\n",
        "\n",
        "# Only change code above this line\n",
        "# Don't even look below this line\n",
        "\n",
        "import re\n",
        "from IPython.display import HTML\n",
        "\n",
        "\n",
        "print(\" \")\n",
        "code = In[-1].split('# Only change code above this line')[0];\n",
        "\n",
        "# rows.append([a, 2*a])\n",
        "if re.search(\"rows\\.append\\(\\[a\\,\\s*2\\*a\\]\\)\", code):\n",
        "    print(\"Now change the equation to y = 3x + 2\")\n",
        "elif re.search(\"rows\\.append\\(\\[a\\,\\s*3\\*a\\+2\\]\\)\", code):\n",
        "    print(\"Code test passed\")\n",
        "else:\n",
        "    print(\"Your code should include rows.append([a, 3*a+2])\")\n",
        "\n",
        "\n",
        "plt.show()"
      ],
      "execution_count": null,
      "outputs": [
        {
          "output_type": "display_data",
          "data": {
            "image/png": "[encoded data removed]",
            "text/plain": [
              "<Figure size 432x288 with 1 Axes>"
            ]
          },
          "metadata": {
            "needs_background": "light"
          }
        },
        {
          "output_type": "stream",
          "name": "stdout",
          "text": [
            " \n",
            "Code test passed\n"
          ]
        }
      ]
    },
    {
      "cell_type": "markdown",
      "metadata": {
        "id": "jpo7oASHGEu7"
      },
      "source": [
        "# 20 - Projectile Game"
      ]
    },
    {
      "cell_type": "markdown",
      "metadata": {
        "id": "WHx9faGkGEu7"
      },
      "source": [
        "Learn quadratic functions by building a projectile game. Starting at (0,0) you launch a toy rocket that must clear a wall. You can randomize the height and location of the wall. The goal is to determine what initial velocity would get the rocket over the wall. Bonus: make an animation of the path of the rocket.\n"
      ]
    },
    {
      "cell_type": "code",
      "metadata": {
        "id": "-yFfSgoeWHN3"
      },
      "source": [
        "# Write your code here\n"
      ],
      "execution_count": null,
      "outputs": []
    }
  ]
}